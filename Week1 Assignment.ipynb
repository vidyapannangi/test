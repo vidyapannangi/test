{
 "cells": [
  {
   "cell_type": "code",
   "execution_count": 1,
   "id": "dae1a702-724b-47cc-82bc-5aa46c77354c",
   "metadata": {},
   "outputs": [
    {
     "name": "stdout",
     "output_type": "stream",
     "text": [
      "Hello\n"
     ]
    }
   ],
   "source": [
    "a = \"Hello\"\n",
    "print(a)"
   ]
  },
  {
   "cell_type": "code",
   "execution_count": 2,
   "id": "1a9e342f-df7a-48f9-97d4-f62ac8b40a30",
   "metadata": {},
   "outputs": [
    {
     "name": "stdout",
     "output_type": "stream",
     "text": [
      "e\n"
     ]
    }
   ],
   "source": [
    "a = \"Hello, Worlddddddddddddddddddddddddddddddddddddddddddddddddddddddddddddddddddd!\"\n",
    "print(a[1])"
   ]
  },
  {
   "cell_type": "code",
   "execution_count": 6,
   "id": "460bbdc2-3cc5-49fc-b4e1-3ba3cef3888c",
   "metadata": {},
   "outputs": [
    {
     "name": "stdout",
     "output_type": "stream",
     "text": [
      "dya\n"
     ]
    }
   ],
   "source": [
    "b = \"Vidya, Pannangi!\"\n",
    "print(b[2:5])"
   ]
  },
  {
   "cell_type": "code",
   "execution_count": 4,
   "id": "5c9f01ad-5403-44e1-8a9b-c3934ec61a74",
   "metadata": {},
   "outputs": [
    {
     "name": "stdout",
     "output_type": "stream",
     "text": [
      "16\n"
     ]
    }
   ],
   "source": [
    "a = \"Vidya, Pannangi!\"\n",
    "print(len(a))"
   ]
  },
  {
   "cell_type": "code",
   "execution_count": 5,
   "id": "176d40d5-dc1b-46b0-a73c-aa1706291dca",
   "metadata": {},
   "outputs": [
    {
     "name": "stdout",
     "output_type": "stream",
     "text": [
      "VIDYA, PANNANGI!\n"
     ]
    }
   ],
   "source": [
    "print(a.upper())"
   ]
  },
  {
   "cell_type": "code",
   "execution_count": 7,
   "id": "91c613de-c88c-4974-9ca2-7df8e89abeaa",
   "metadata": {},
   "outputs": [
    {
     "name": "stdout",
     "output_type": "stream",
     "text": [
      "vidya, pannangi!\n"
     ]
    }
   ],
   "source": [
    "print(a.lower())"
   ]
  },
  {
   "cell_type": "code",
   "execution_count": 10,
   "id": "d95ddea4-7bc4-45bd-ba18-501d0525a811",
   "metadata": {},
   "outputs": [
    {
     "name": "stdout",
     "output_type": "stream",
     "text": [
      "Jidya, Pannangi!\n"
     ]
    }
   ],
   "source": [
    "print(a.replace(\"V\", \"J\"))"
   ]
  },
  {
   "cell_type": "code",
   "execution_count": 13,
   "id": "20a256b8-59b2-4673-8b5a-5732e37ef5da",
   "metadata": {},
   "outputs": [
    {
     "name": "stdout",
     "output_type": "stream",
     "text": [
      "Vidya Pannangi\n"
     ]
    }
   ],
   "source": [
    "#String ConcatenATION\n",
    "a = \"Vidya\"\n",
    "b = \"Pannangi\"\n",
    "c = a + \" \" + b\n",
    "print(c)"
   ]
  },
  {
   "cell_type": "code",
   "execution_count": 15,
   "id": "c884fce7-6bcb-4e7e-bd42-939740a06cb8",
   "metadata": {},
   "outputs": [
    {
     "data": {
      "text/plain": [
       "['One', 'two', 'three', 'four']"
      ]
     },
     "execution_count": 15,
     "metadata": {},
     "output_type": "execute_result"
    }
   ],
   "source": [
    ">>> my_string = 'One two three four'\n",
    ">>> word_list = my_string.split()\n",
    ">>> word_list\n",
    "['One', 'two', 'three', 'four']\n",
    ">>>"
   ]
  },
  {
   "cell_type": "code",
   "execution_count": 16,
   "id": "57e074a6-7b10-40ea-80c3-ac7d2763d2ae",
   "metadata": {},
   "outputs": [
    {
     "data": {
      "text/plain": [
       "['1', '2', '3', '4', '5']"
      ]
     },
     "execution_count": 16,
     "metadata": {},
     "output_type": "execute_result"
    }
   ],
   "source": [
    ">>> my_string = '1/2/3/4/5'\n",
    ">>> number_list = my_string.split('/')\n",
    ">>> number_list\n",
    "['1', '2', '3', '4', '5']\n",
    ">>>"
   ]
  },
  {
   "cell_type": "code",
   "execution_count": 17,
   "id": "fcc178e5-ccfe-4e52-b2d6-c00aa4ca524b",
   "metadata": {},
   "outputs": [
    {
     "data": {
      "text/plain": [
       "['peach', 'raspberry', 'strawberry', 'vanilla']"
      ]
     },
     "execution_count": 17,
     "metadata": {},
     "output_type": "execute_result"
    }
   ],
   "source": [
    ">>> str = 'peach raspberry strawberry vanilla'\n",
    ">>> tokens = str.split()\n",
    ">>> tokens\n",
    "['peach', 'raspberry', 'strawberry', 'vanilla']\n",
    ">>>"
   ]
  },
  {
   "cell_type": "code",
   "execution_count": 18,
   "id": "8cb5997c-b9ce-47b9-ad27-c0ce848715b8",
   "metadata": {},
   "outputs": [
    {
     "data": {
      "text/plain": [
       "['www', 'example', 'com']"
      ]
     },
     "execution_count": 18,
     "metadata": {},
     "output_type": "execute_result"
    }
   ],
   "source": [
    "  >>> my_address = 'www.example.com'\n",
    ">>> tokens = my_address.split('.')\n",
    ">>> tokens\n",
    "['www', 'example', 'com']\n",
    ">>>"
   ]
  },
  {
   "cell_type": "code",
   "execution_count": null,
   "id": "a8acac91-87a1-43ff-a0ed-6aa460ca9c17",
   "metadata": {},
   "outputs": [],
   "source": []
  }
 ],
 "metadata": {
  "kernelspec": {
   "display_name": "Python 3 (ipykernel)",
   "language": "python",
   "name": "python3"
  },
  "language_info": {
   "codemirror_mode": {
    "name": "ipython",
    "version": 3
   },
   "file_extension": ".py",
   "mimetype": "text/x-python",
   "name": "python",
   "nbconvert_exporter": "python",
   "pygments_lexer": "ipython3",
   "version": "3.12.1"
  }
 },
 "nbformat": 4,
 "nbformat_minor": 5
}
